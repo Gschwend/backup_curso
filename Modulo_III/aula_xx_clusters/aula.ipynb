{
 "cells": [
  {
   "cell_type": "markdown",
   "metadata": {},
   "source": [
    "# Curso básico de Python aplicado à Astronomia\n",
    "### Laboratório Interinstitucional de e-Astronomia\n",
    "# Aula XX - Relação Massa-riqueza de Aglomerados de Galáxias\n",
    "Michel Aguena, LAPP/IN2P3 & LIneA\n",
    "\n",
    "## Objetivo\n",
    "\n",
    "\n",
    "Aglomerados de galáxias podem ser ferramentas poderosas para se obter infomação sobre a cosmologia,\n",
    "mas é necessário fazer a associação entre os aglomerados e os halos de matéria escura. Dentre essas propriedades, está a relação entre a riqueza de aglomerados e a massa dos halos.\n",
    "\n",
    "## Índice\n",
    "1. [O que são aglomerados de galáxias](#cluster)\n",
    "2. [Calibrando uma relação (fazendo um \"fit\")](#fit)\n",
    "3. [O espaço de parâmetros](#param)\n",
    "4. [Calibrando a relação massa-riqueza](#mr)"
   ]
  },
  {
   "cell_type": "markdown",
   "metadata": {},
   "source": [
    "# 1. O que são aglomerados de galáxias <a class=\"anchor\" id=\"cluster\"></a>"
   ]
  },
  {
   "cell_type": "markdown",
   "metadata": {},
   "source": [
    "# 2. Calibrando uma relação (fazendo um \"fit\") <a class=\"anchor\" id=\"fit\"></a>\n",
    "Como definir qual os valores de uma função se ajustam melhor um conjunto de dados?\n",
    "Ex:"
   ]
  },
  {
   "cell_type": "code",
   "execution_count": null,
   "metadata": {},
   "outputs": [],
   "source": [
    "import numpy as np\n",
    "import pylab as plt\n",
    "from IPython.display import Markdown as md\n",
    "x = np.array([1, 2, 3, 4, 5])\n",
    "y = np.array([3, 5, 7, 9, 11])\n",
    "err = np.random.rand(5)*10"
   ]
  },
  {
   "cell_type": "code",
   "execution_count": null,
   "metadata": {},
   "outputs": [],
   "source": [
    "%matplotlib inline\n",
    "plt.errorbar(x, y, err, ls='', fmt='.', capsize=3)\n",
    "plt.grid()\n",
    "plt.xlabel('x')\n",
    "plt.ylabel('y')\n",
    "plt.show()"
   ]
  },
  {
   "cell_type": "markdown",
   "metadata": {},
   "source": [
    "Qual a melhor função que descreve esses dados?\n",
    "Uma reta:\n",
    "\\begin{equation}\n",
    "f(x) = a\\; x + b\n",
    "\\end{equation}"
   ]
  },
  {
   "cell_type": "code",
   "execution_count": null,
   "metadata": {},
   "outputs": [],
   "source": [
    "def func(x, a, b):\n",
    "    return a*x+b"
   ]
  },
  {
   "cell_type": "code",
   "execution_count": null,
   "metadata": {},
   "outputs": [],
   "source": [
    "parametros = [(0, 7), (1, 2), (3, 0),\n",
    "              (2.5, 1), (2, 6), (-3, 15)]"
   ]
  },
  {
   "cell_type": "code",
   "execution_count": null,
   "metadata": {},
   "outputs": [],
   "source": [
    "%matplotlib inline\n",
    "plt.errorbar(x, y, err, ls='', fmt='.', capsize=3)\n",
    "for i, (a, b) in enumerate(parametros):\n",
    "    plt.plot(x, func(x, a, b),\n",
    "            zorder=0, label=f'c{i} (a={a}, b={b})')\n",
    "plt.grid()\n",
    "plt.legend(ncol=2)\n",
    "plt.xlabel('x')\n",
    "plt.ylabel('y')\n",
    "plt.show()"
   ]
  },
  {
   "cell_type": "markdown",
   "metadata": {},
   "source": [
    "Como avaliar quantativamente qual o melhor ajuste?\n",
    "\n",
    "Método do $\\chi^2$:\n",
    "\n",
    "\\begin{equation}\n",
    "\\chi^2 = \\sum_i \\frac{(data_i-modelo_i)^2}{(erro_i)^2}\n",
    "\\end{equation}"
   ]
  },
  {
   "cell_type": "code",
   "execution_count": null,
   "metadata": {},
   "outputs": [],
   "source": [
    "def chi2(data, modelo, erro):\n",
    "    return sum((data-modelo)**2/erro**2)\n",
    "# Print computation:\n",
    "def show_chi2_numbers(x, y, err, parametros):\n",
    "    out = ''\n",
    "    for i, (a, b) in enumerate(parametros):\n",
    "        out += (f'$c{i}:'+\\\n",
    "          ' + '.join([rf'\\frac{{({y_}-{func(x_, a, b)})^2}}{{{err_:.2f}^2}}'\n",
    "                     for x_, y_, err_ in zip(x, y, err)])+\\\n",
    "          f'= {chi2(y, func(x, a, b), err):.2f}$\\n\\n'\n",
    "               )\n",
    "    return md(out)\n",
    "show_chi2_numbers(x, y, err, parametros)"
   ]
  },
  {
   "cell_type": "code",
   "execution_count": null,
   "metadata": {},
   "outputs": [],
   "source": [
    "%matplotlib inline\n",
    "plt.errorbar(x, y, err, ls='', fmt='.', capsize=3)\n",
    "for i, (a, b) in enumerate(parametros):\n",
    "    plt.plot(x, func(x, a, b),\n",
    "            zorder=0, label=f'c{i} ({chi2(y, func(x, a, b), err):.2f})')\n",
    "plt.grid()\n",
    "plt.legend(ncol=2)\n",
    "plt.xlabel('x')\n",
    "plt.ylabel('y')\n",
    "plt.show()"
   ]
  },
  {
   "cell_type": "markdown",
   "metadata": {},
   "source": [
    "# 3. O espaço de parâmetros <a class=\"anchor\" id=\"param\"></a>\n",
    "\n",
    "Avaliar a qualidade do ajuste no espaço de parâmetros"
   ]
  },
  {
   "cell_type": "code",
   "execution_count": null,
   "metadata": {},
   "outputs": [],
   "source": [
    "for i, (a, b) in enumerate(parametros):\n",
    "    plt.scatter(a, b, color=f'C{i}')\n",
    "    plt.text(a, b, f'c{i}({chi2(y, func(x, a, b), err):.2f})')\n",
    "plt.xlabel('a')\n",
    "plt.ylabel('b')\n",
    "plt.grid()\n",
    "plt.show()"
   ]
  },
  {
   "cell_type": "markdown",
   "metadata": {},
   "source": [
    "E se calculassemos os valores na grade?"
   ]
  },
  {
   "cell_type": "code",
   "execution_count": null,
   "metadata": {},
   "outputs": [],
   "source": [
    "a_vals = np.linspace(-3, 7, 99)\n",
    "b_vals = np.linspace(-14, 16, 99)\n",
    "# Calcular valores\n",
    "a_grid = np.outer(a_vals, b_vals*0+1)\n",
    "b_grid = np.outer(b_vals, a_vals*0+1).T\n",
    "chi2_vals = np.array([[chi2(y, func(x, a, b), err) for b in b_vals]\n",
    "             for a in a_vals])"
   ]
  },
  {
   "cell_type": "code",
   "execution_count": null,
   "metadata": {},
   "outputs": [],
   "source": [
    "from mpl_toolkits.mplot3d import Axes3D"
   ]
  },
  {
   "cell_type": "code",
   "execution_count": null,
   "metadata": {},
   "outputs": [],
   "source": [
    "%matplotlib notebook\n",
    "fig = plt.figure(figsize=(7, 7))\n",
    "ax = fig.add_subplot(111, projection='3d')\n",
    "ax.plot_wireframe(a_grid, b_grid, chi2_vals,\n",
    "                 lw=.5)\n",
    "\n",
    "\n",
    "for i, (a, b) in enumerate(parametros): \n",
    "    ax.scatter(a, b, chi2(y, func(x, a, b), err),\n",
    "               color=f'C{i}', label=f'c{i}')\n",
    "\n",
    "\n",
    "ax.set_xlabel('a')\n",
    "ax.set_ylabel('b')\n",
    "ax.set_zlabel('$\\chi^2$')\n",
    "\n",
    "ax.legend(ncol=2)\n",
    "\n",
    "fig.canvas.toolbar_visible = False\n",
    "fig.canvas.header_visible = False\n",
    "fig.canvas.resizable = True\n",
    "\n",
    "plt.show()"
   ]
  },
  {
   "cell_type": "markdown",
   "metadata": {},
   "source": [
    "* Likelihood\n",
    "\\begin{equation}\n",
    "\\mathcal{L} \\propto \\exp{\\left(-\\frac{\\chi^2}{2}\\right)}\n",
    "\\end{equation}"
   ]
  },
  {
   "cell_type": "code",
   "execution_count": null,
   "metadata": {},
   "outputs": [],
   "source": [
    "%matplotlib notebook\n",
    "fig = plt.figure(figsize=(7, 7))\n",
    "ax = fig.add_subplot(111, projection='3d')\n",
    "ax.plot_wireframe(a_grid, b_grid, np.exp(-chi2_vals/2),\n",
    "                 lw=.5)\n",
    "\n",
    "ax.set_xlabel('a')\n",
    "ax.set_ylabel('b')\n",
    "ax.set_zlabel('$\\mathcal{L}$')\n",
    "\n",
    "for i, (a, b) in enumerate(parametros): \n",
    "    ax.scatter(a, b, np.exp(-chi2(y, func(x, a, b), err)/2),\n",
    "               color=f'C{i}', label=f'c{i}')\n",
    "\n",
    "\n",
    "fig.canvas.toolbar_visible = False\n",
    "fig.canvas.header_visible = False\n",
    "fig.canvas.resizable = True\n",
    "\n",
    "maxlike = np.exp(-chi2_vals/2).max()\n",
    "\n",
    "plt.show()"
   ]
  },
  {
   "cell_type": "markdown",
   "metadata": {},
   "source": [
    "# 4. Calibrando a relação massa-riqueza <a class=\"anchor\" id=\"mr\"></a>\n",
    "\n",
    "A relação entre a massa dos halos e a riqueza dos aglomerados é approximada por uma relação de escala:\n",
    "\n",
    "\\begin{equation}\n",
    "\\left(\\frac{M}{M^0}\\right) \\approx\n",
    "\\left(\\frac{N_{gals}}{N_{gals}^0}\\right)^\\alpha \n",
    "\\end{equation}"
   ]
  },
  {
   "cell_type": "code",
   "execution_count": null,
   "metadata": {},
   "outputs": [],
   "source": [
    "ngals = np.logspace(1, 3)"
   ]
  }
 ],
 "metadata": {
  "kernelspec": {
   "display_name": "conda-clmmenv",
   "language": "python",
   "name": "conda-clmmenv"
  },
  "language_info": {
   "codemirror_mode": {
    "name": "ipython",
    "version": 3
   },
   "file_extension": ".py",
   "mimetype": "text/x-python",
   "name": "python",
   "nbconvert_exporter": "python",
   "pygments_lexer": "ipython3",
   "version": "3.9.0"
  }
 },
 "nbformat": 4,
 "nbformat_minor": 4
}
