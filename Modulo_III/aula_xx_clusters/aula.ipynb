{
 "cells": [
  {
   "cell_type": "markdown",
   "metadata": {},
   "source": [
    "# Curso básico de Python aplicado à Astronomia\n",
    "### Laboratório Interinstitucional de e-Astronomia\n",
    "# Aula XX - Relação Massa-riqueza de Aglomerados de Galáxias\n",
    "Michel Aguena, LAPP/IN2P3 & LIneA\n",
    "\n",
    "## Objetivo\n",
    "\n",
    "\n",
    "Aglomerados de galáxias podem ser ferramentas poderosas para se obter infomação sobre a cosmologia,\n",
    "mas é necessário fazer a associação entre os aglomerados e os halos de matéria escura. Dentre essas propriedades, está a relação entre a riqueza de aglomerados e a massa dos halos.\n",
    "\n",
    "## Índice\n",
    "1. [Aglomerados de galáxias](#cluster)\n",
    "2. [Calibrando uma relação (fazendo um \"fit\")](#fit)\n",
    "3. [O espaço de parâmetros](#param)\n",
    "4. [Calibrando a relação massa-riqueza](#mr)"
   ]
  },
  {
   "cell_type": "code",
   "execution_count": null,
   "metadata": {},
   "outputs": [],
   "source": [
    "# ignore warnings\n",
    "import warnings\n",
    "warnings.filterwarnings('ignore')\n",
    "# computation\n",
    "import numpy as np\n",
    "from astropy.table import Table\n",
    "# display\n",
    "from IPython.display import Markdown as md\n",
    "from IPython.display import display, Math\n",
    "# plots\n",
    "import pylab as plt\n",
    "from mpl_toolkits.mplot3d import Axes3D\n",
    "from matplotlib.ticker import MultipleLocator\n",
    "# widgets plot\n",
    "import ipywidgets as widgets\n",
    "%matplotlib widget\n",
    "# auto reload local modules\n",
    "%load_ext autoreload\n",
    "%autoreload 2\n",
    "# my functions\n",
    "import aux_funcs"
   ]
  },
  {
   "cell_type": "markdown",
   "metadata": {},
   "source": [
    "# 1. Aglomerados de galáxias <a class=\"anchor\" id=\"cluster\"></a>\n",
    "\n",
    "Conjuntos de galaxias gravitacionalmente conectadas, composta de centenas a milhares de galaxias e com uma massa da ordem de 100 Trilhões de masssas solares. Podem ser detectados através de emissões em raio-x ($\\sim10^{10}$ GHz), pelo efeito Sunyaev Zel'dovich ($\\sim100$ GHz), ou em surveys opticos ($\\sim10^5$ GHz) de galaxias.\n",
    "<table>\n",
    "    <tr>\n",
    "        <td style=\"text-align:center\"><img src='figs/xray.jpeg' width='200' height='200'/><br>\n",
    "            Aglomerado Abell 1689 com emissão em <b>raio-x</b>, imagem composta da combinação de observações do HST (Hubble Space Telescope) e CXO (Chandra X-ray Observatory).</td>\n",
    "        <td style=\"text-align:center\"><img src='figs/sz.jpg' width='220' height='200'/><br>\n",
    "            Efeito <b>Sunyaev–Zeldovich</b> termico no aglomerado RX J1347.5-1145 observado pelo telescopio ALMA (Atacama Large Millimeter Array).</td>\n",
    "        <td style=\"text-align:center\"><a href='https://doi.org/10.1093/mnras/stab264'><img src='figs/wazp.jpg' width='240' height='200'/><br>\n",
    "            Aglomerado <b>optico</b> detectado pelo algoritimo WaZP (Wavelet Z Photometric) no primeiro ano de dados do DES (Dark Energy Survey).</a></td>\n",
    "    </tr>\n",
    "</table>"
   ]
  },
  {
   "cell_type": "markdown",
   "metadata": {},
   "source": [
    "## 1.1 Aplicação em cosmologia\n",
    "\n",
    "Halos de matréria escura são as maiores estruturas ligadas gravitacionalmente conectadas.\n",
    "A abundância de halos esta conectada com algumas componentes fundamentais do Universo como a quantidade de matéria escura, de energia escura e sua evolução. Abaixo podemos ver explicitamente como a fração de matéria no Universo ($\\Omega_m$) e o parâmetro da evolução da energia escura ($w$) afetam a contagem esperada de halos em cada intervalo de massa e redshift:"
   ]
  },
  {
   "cell_type": "code",
   "execution_count": null,
   "metadata": {},
   "outputs": [],
   "source": [
    "from aux_funcs import plot_nc\n",
    "%matplotlib widget\n",
    "plot_nc()"
   ]
  },
  {
   "cell_type": "markdown",
   "metadata": {},
   "source": [
    "Aglomerados de Galáxias são traçadores dos halos de matéria escura, e podem portanto serem usados para se inferir a abundancia de halos. Porem é necessário compreender o mapeamento entre os halos de materia escura e os aglomerados de galaxias.\n",
    "\n",
    "Portanto, para que aglomerados sejam usados para se vincular cosmologia, é preciso:\n",
    "\n",
    "* Detectar os aglomerados\n",
    "* Caraterizar a detecção (contagem de aglomerados->contagem de halos)\n",
    "* Caraterizar os redshifts dos aglomerados\n",
    "* **Determinar um indicativo de massa para os aglomerados**\n",
    "\n",
    "## 1.2 Relação massa-riqueza\n",
    "\n",
    "\n",
    "A contagem de halos é extremamente sensível a massa mímima considerada. Isso pode ser visto abaixo:\n",
    "\n",
    "<table><tr>\n",
    "    <td><img src='dndlogM.png'/></td>\n",
    "    <td style=\"text-align:left\">\n",
    "        Contagem de halos de matéria escura previstos em 10,000 graus$^2$,\n",
    "        <br> observando-se até redshift 2.\n",
    "        <table style=\"border: 1px solid black\">\n",
    "            <tr><th>Massa mínima</th><th>Numero de halos</th></tr>\n",
    "            <tr><td>$4.0\\times10^{13}$</td><td>$\\sim800,000$</td></tr>\n",
    "            <tr><td>$6.3\\times10^{13}$</td><td>$\\sim450,000$</td></tr>\n",
    "            <tr><td>$1.0\\times10^{14}$</td><td>$\\sim230,000$</td></tr>\n",
    "            <tr><td>$1.6\\times10^{14}$</td><td>$\\sim110,000$</td></tr>\n",
    "            <tr><td>$2.5\\times10^{14}$</td><td>$\\sim50,000$</td></tr>\n",
    "        </table>\n",
    "    </td>\n",
    "</tr></table>\n",
    "\n",
    "Portanto, é muito importante que haja um mapeamento da massa dos halos com alguma propriedade dos aglomerados.\n",
    "No caso de aglomerados opticos, essa propriedade é a riqueza do aglomerado, que está associada com o numero de galaxias-membro do aglomerado.\n",
    "\n",
    "<table><tr>\n",
    "    <td><a href='https://academic.oup.com/mnras/article/482/1/1352/5123719'><img src='mr_mcclintock.png' width='300'/>McClintock et al. 2018</a></td>\n",
    "    <td><a href='https://arxiv.org/abs/1910.13548'><img src='mr_kirby.png' width='300'/>Kirby et al. 2019</a></td>\n",
    "</tr></table>"
   ]
  },
  {
   "cell_type": "markdown",
   "metadata": {},
   "source": [
    "# 2. Calibrando uma relação (fazendo um \"fit\") <a class=\"anchor\" id=\"fit\"></a>\n",
    "Como definir qual os valores de uma função se ajustam melhor um conjunto de dados?\n",
    "Ex:"
   ]
  },
  {
   "cell_type": "code",
   "execution_count": null,
   "metadata": {},
   "outputs": [],
   "source": [
    "x = np.array([1, 2, 3, 4, 5])\n",
    "y = np.array([3, 5, 7, 9, 11])\n",
    "err = np.array([3.12, 7.40, 5.61, 1.48 , 3.50])"
   ]
  },
  {
   "cell_type": "code",
   "execution_count": null,
   "metadata": {},
   "outputs": [],
   "source": [
    "%matplotlib inline\n",
    "plt.errorbar(x, y, err, ls='', fmt='.', capsize=3)\n",
    "plt.grid()\n",
    "plt.xlabel('x')\n",
    "plt.ylabel('y')\n",
    "plt.show()"
   ]
  },
  {
   "cell_type": "markdown",
   "metadata": {},
   "source": [
    "Qual a melhor função que descreve esses dados?\n",
    "Uma reta:\n",
    "\\begin{equation}\n",
    "f(x) = a\\; x + b\n",
    "\\end{equation}"
   ]
  },
  {
   "cell_type": "code",
   "execution_count": null,
   "metadata": {},
   "outputs": [],
   "source": [
    "def func(x, a, b):\n",
    "    return a*x+b"
   ]
  },
  {
   "cell_type": "markdown",
   "metadata": {},
   "source": [
    "Que tal testar alguns parâmetros:"
   ]
  },
  {
   "cell_type": "code",
   "execution_count": null,
   "metadata": {},
   "outputs": [],
   "source": [
    "%matplotlib widget\n",
    "aux_funcs.plot_with_line(x, y, err, show_chi2=False)"
   ]
  },
  {
   "cell_type": "code",
   "execution_count": null,
   "metadata": {},
   "outputs": [],
   "source": [
    "parametros = [(0, 7), (1, 2), (3, 0),\n",
    "              (2.5, 1), (2, 6), (-3, 15)]\n",
    "md('Dados alguns parâmetros:\\n\\n'+\n",
    "   'Conjunto | a | b \\n---|---|---\\n'+\n",
    "    '\\n'.join([f'$c_{i}$ | {a} | {b}' for i, (a, b) in enumerate(parametros)])+\n",
    "   '\\n\\nQual se ajusta melhor?'\n",
    "  )"
   ]
  },
  {
   "cell_type": "code",
   "execution_count": null,
   "metadata": {},
   "outputs": [],
   "source": [
    "%matplotlib inline\n",
    "plt.errorbar(x, y, err, ls='', fmt='.', capsize=3)\n",
    "for i, (a, b) in enumerate(parametros):\n",
    "    plt.plot(x, func(x, a, b),\n",
    "            zorder=0, label=f'$c_{i}$ (a={a}, b={b})')\n",
    "plt.grid()\n",
    "plt.legend(ncol=2)\n",
    "plt.xlabel('x')\n",
    "plt.ylabel('y')\n",
    "plt.show()"
   ]
  },
  {
   "cell_type": "markdown",
   "metadata": {},
   "source": [
    "Como avaliar quantativamente qual o melhor ajuste?\n",
    "\n",
    "## Método do $\\chi^2$:\n",
    "\n",
    "\\begin{equation}\n",
    "\\chi^2 = \\sum_i \\frac{(data_i-modelo_i)^2}{(erro_i)^2}\n",
    "\\end{equation}"
   ]
  },
  {
   "cell_type": "code",
   "execution_count": null,
   "metadata": {},
   "outputs": [],
   "source": [
    "def chi2(data, modelo, erro):\n",
    "    return sum((data-modelo)**2/erro**2)"
   ]
  },
  {
   "cell_type": "code",
   "execution_count": null,
   "metadata": {},
   "outputs": [],
   "source": [
    "aux_funcs.show_chi2_numbers(x, y, err, parametros, func=func)"
   ]
  },
  {
   "cell_type": "code",
   "execution_count": null,
   "metadata": {},
   "outputs": [],
   "source": [
    "%matplotlib inline\n",
    "plt.errorbar(x, y, err, ls='', fmt='.', capsize=3)\n",
    "for i, (a, b) in enumerate(parametros):\n",
    "    plt.plot(x, func(x, a, b),\n",
    "            zorder=0, label=f'$c_{i}$ ($\\chi^2={chi2(y, func(x, a, b), err):.1f}$)')\n",
    "plt.grid()\n",
    "plt.legend(ncol=2)\n",
    "plt.xlabel('x')\n",
    "plt.ylabel('y')\n",
    "plt.show()"
   ]
  },
  {
   "cell_type": "code",
   "execution_count": null,
   "metadata": {},
   "outputs": [],
   "source": [
    "%matplotlib widget\n",
    "aux_funcs.plot_with_line(x, y, err, func=func)"
   ]
  },
  {
   "cell_type": "markdown",
   "metadata": {},
   "source": [
    "# 3. O espaço de parâmetros <a class=\"anchor\" id=\"param\"></a>\n",
    "\n",
    "Avaliar a qualidade do ajuste no espaço de parâmetros"
   ]
  },
  {
   "cell_type": "code",
   "execution_count": null,
   "metadata": {},
   "outputs": [],
   "source": [
    "%matplotlib inline\n",
    "for i, (a, b) in enumerate(parametros):\n",
    "    plt.scatter(a, b, color=f'C{i}')\n",
    "    plt.text(a, b, f'$c_{i}$({chi2(y, func(x, a, b), err):.0f})')\n",
    "plt.xlabel('a')\n",
    "plt.ylabel('b')\n",
    "plt.grid()\n",
    "plt.show()"
   ]
  },
  {
   "cell_type": "markdown",
   "metadata": {},
   "source": [
    "E se calculassemos os valores na grade?"
   ]
  },
  {
   "cell_type": "markdown",
   "metadata": {},
   "source": [
    "Definir  valores para a grade"
   ]
  },
  {
   "cell_type": "code",
   "execution_count": null,
   "metadata": {},
   "outputs": [],
   "source": [
    "a_vals = np.linspace(-3, 7, 101)\n",
    "b_vals = np.linspace(-14, 16, 99)\n",
    "a_grid, b_grid, chi2_grid = aux_funcs.compute_chi2_grid(a_vals, b_vals, func, x, y, err)"
   ]
  },
  {
   "cell_type": "markdown",
   "metadata": {},
   "source": [
    "* Grafico 3D do $\\chi^2$:"
   ]
  },
  {
   "cell_type": "code",
   "execution_count": null,
   "metadata": {},
   "outputs": [],
   "source": [
    "%matplotlib widget\n",
    "fig = plt.figure(figsize=(7, 7))\n",
    "ax = fig.add_subplot(111, projection='3d')\n",
    "ax.plot_wireframe(a_grid, b_grid, chi2_grid,\n",
    "                 lw=.5)\n",
    "\n",
    "for i, (a, b) in enumerate(parametros): \n",
    "    ax.scatter(a, b, chi2(y, func(x, a, b), err),\n",
    "               color=f'C{i}', label=f'$c_{i}$')\n",
    "\n",
    "ax.set_xlabel('a')\n",
    "ax.set_ylabel('b')\n",
    "ax.set_zlabel('$\\chi^2$')\n",
    "\n",
    "ax.legend(ncol=2)\n",
    "\n",
    "fig.canvas.toolbar_visible = False\n",
    "fig.canvas.header_visible = False\n",
    "fig.canvas.resizable = True\n",
    "\n",
    "plt.show()"
   ]
  },
  {
   "cell_type": "markdown",
   "metadata": {},
   "source": [
    "## Likelihood\n",
    "\n",
    "A *likelihood* é como uma probablilidade no espaço de parâmetros. No caso de uma distribuição Gaussiana de dados, ela pode ser definida em termos do $\\chi^2$:\n",
    "\n",
    "\\begin{equation}\n",
    "\\mathcal{L} = \\frac{1}{\\sqrt{2\\pi \\det({erro}^2)}} \\exp{\\left(-\\frac{1}{2}\\chi^2\\right)}\n",
    "=\\frac{1}{\\prod_i\\sqrt{2\\pi\\,{erro}^2_i}}\\exp{\\left(-\\frac{1}{2}\\sum_i \\frac{(data_i-modelo_i)^2}{(erro_i)^2}\\right)}\n",
    "\\end{equation}"
   ]
  },
  {
   "cell_type": "code",
   "execution_count": null,
   "metadata": {},
   "outputs": [],
   "source": [
    "def like_chi2(chi2_, err):\n",
    "    return np.exp(-.5*chi2_)/np.prod(np.sqrt(2*np.pi)*err)\n",
    "def like(data, modelo, erro):\n",
    "    return like_chi2(chi2(data, modelo, erro), erro)"
   ]
  },
  {
   "cell_type": "code",
   "execution_count": null,
   "metadata": {},
   "outputs": [],
   "source": [
    "md('Para o nosso conjunto de dados, temos:\\n\\n'+\n",
    "   'Conjunto | $\\chi^2$ | $\\mathcal{L}$\\n---|---|---\\n'+\n",
    "    '\\n'.join([f'c{i}|${chi2(y, func(x, a, b), err):.0f}$|'+\n",
    "                f'${np.exp(-chi2(y, func(x, a, b), err)/2):.2e}$'\n",
    "               for i, (a, b) in enumerate(parametros)]))"
   ]
  },
  {
   "cell_type": "markdown",
   "metadata": {},
   "source": [
    "* Grafico 3D da $\\mathcal{L}$:"
   ]
  },
  {
   "cell_type": "code",
   "execution_count": null,
   "metadata": {},
   "outputs": [],
   "source": [
    "%matplotlib widget\n",
    "\n",
    "like_grid = like_chi2(chi2_grid, err)\n",
    "\n",
    "fig = plt.figure(figsize=(7, 7))\n",
    "ax = fig.add_subplot(111, projection='3d')\n",
    "ax.plot_wireframe(a_grid, b_grid, like_grid,\n",
    "                 lw=.5)\n",
    "\n",
    "ax.set_xlabel('a')\n",
    "ax.set_ylabel('b')\n",
    "ax.set_zlabel('$\\mathcal{L}$')\n",
    "\n",
    "for i, (a, b) in enumerate(parametros): \n",
    "    ax.scatter(a, b, like(y, func(x, a, b), err),\n",
    "               color=f'C{i}', label=f'c{i}')\n",
    "\n",
    "\n",
    "fig.canvas.toolbar_visible = False\n",
    "fig.canvas.header_visible = False\n",
    "fig.canvas.resizable = True\n",
    "\n",
    "plt.show()"
   ]
  },
  {
   "cell_type": "markdown",
   "metadata": {},
   "source": [
    "## Fixar *VS* marginalizar parâmetros\n",
    "Como encontrar definitivamente qual conjunto de parâmetros que melhor se ajusta aos dados?\n",
    "\n",
    "### Fixar parâmetros\n",
    "\n",
    "Deteminar a likelihood de um parâmetro fixando-se o valor do outro parâmetro:\n",
    "\n",
    "\\begin{equation}\n",
    "P_f(a) = P(a, b=b_0)\n",
    "\\end{equation}\n",
    "\n",
    "O que acontece quando se fixa um dos parâmetros:"
   ]
  },
  {
   "cell_type": "code",
   "execution_count": null,
   "metadata": {},
   "outputs": [],
   "source": [
    "%matplotlib inline\n",
    "f, axes = plt.subplots(1, 2, figsize=(8, 4))\n",
    "\n",
    "vals = np.linspace(0, 5, 100)\n",
    "for b in [-4, -2, 0, 2, 4]:\n",
    "    axes[0].plot(vals, [like(y, func(x, a, b), err) for a in vals],\n",
    "            label=f'b={b}')\n",
    "\n",
    "vals = np.linspace(-7, 10, 100)\n",
    "for a in [1, 1.5, 2, 2.5, 3]:\n",
    "    axes[1].plot(vals, [like(y, func(x, a, b), err) for b in vals],\n",
    "            label=f'a={a}')\n",
    "for ax in axes:\n",
    "    ax.legend()\n",
    "    ax.grid()\n",
    "    ax.set_ylim(0, ax.get_ylim()[1])\n",
    "axes[0].set_xlabel('a')\n",
    "axes[1].set_xlabel('b')\n",
    "axes[1].yaxis.tick_right()\n",
    "plt.show()"
   ]
  },
  {
   "cell_type": "code",
   "execution_count": null,
   "metadata": {},
   "outputs": [],
   "source": [
    "%matplotlib widget\n",
    "aux_funcs.plot_like_marg(x, y, err, a_vals, b_vals)"
   ]
  },
  {
   "cell_type": "markdown",
   "metadata": {},
   "source": [
    "## Marginalizar parâmetros\n",
    "\n",
    "Deteminar a likelihood de um parâmetro considerando-se todos os valores possíveis que o outro parâmetro pode assumir: \n",
    "\\begin{equation}\n",
    "P_m(a) = \\int_{-\\infty}^{\\infty} db P(a, b)\n",
    "\\approx \\sum_i \\Delta b P(a, b=b_i)\n",
    "\\end{equation}\n",
    "\n",
    "Vamos comparar as likelihoods marginalizadas com as fixas na seção anterior:"
   ]
  },
  {
   "cell_type": "code",
   "execution_count": null,
   "metadata": {},
   "outputs": [],
   "source": [
    "%matplotlib inline\n",
    "f, axes = plt.subplots(2, figsize=(6, 9))\n",
    "\n",
    "norm = lambda x, dx: np.array(x)/sum(np.array(x)*dx)\n",
    "\n",
    "da, db = a_vals[1]-a_vals[0], b_vals[1]-b_vals[0]\n",
    "axes[0].plot(a_vals, norm(np.sum(like_grid, axis=1), da), c='0', label='Marginalized')\n",
    "axes[1].plot(b_vals, norm(np.sum(like_grid, axis=0), db), c='0', label='Marginalized')\n",
    "\n",
    "axes[0].set_xlabel('a')\n",
    "axes[0].xaxis.tick_top()\n",
    "axes[0].xaxis.set_label_position('top') \n",
    "\n",
    "axes[1].set_xlabel('b')\n",
    "\n",
    "\n",
    "\n",
    "for b in [-4, -2, 0, 2, 4]:\n",
    "    vals = np.linspace(a_vals[0], a_vals[-1], 200)\n",
    "    dv = (vals[1]-vals[0])\n",
    "    axes[0].plot(vals, norm([like(y, func(x, a, b), err) for a in vals], dv),\n",
    "                label=f'b={b}', zorder=0, lw=.8)\n",
    "for a in [1, 1.5, 2, 2.5, 3]:\n",
    "    vals = np.linspace(b_vals[0], b_vals[-1], 200)\n",
    "    dv = (vals[1]-vals[0])\n",
    "    axes[1].plot(vals, norm([like(y, func(x, a, b), err) for b in vals], dv),\n",
    "                label=f'a={a}', zorder=0, lw=.8)\n",
    "    \n",
    "for ax in axes:\n",
    "    ax.grid()\n",
    "    ax.grid(which='minor', lw=.5)\n",
    "    ax.xaxis.set_minor_locator(MultipleLocator(1))\n",
    "    ax.legend()\n",
    "axes[0].set_xlim(-1, 5)\n",
    "axes[1].set_xlim(-10, 10)\n",
    "axes[1].xaxis.set_major_locator(MultipleLocator(5))\n",
    "plt.show()"
   ]
  },
  {
   "cell_type": "markdown",
   "metadata": {},
   "source": [
    "### Degeneressencia\n",
    "\n",
    "Há alguma correlação entre os parâmetros calibrados? O valor de um dos dois parâmetros influencia no valor do outro?\n",
    "\n",
    "\n",
    "Vamos ver a dependencia da likelihood:"
   ]
  },
  {
   "cell_type": "code",
   "execution_count": null,
   "metadata": {},
   "outputs": [],
   "source": [
    "%matplotlib inline\n",
    "print(like_grid.min(), like_grid.max())\n",
    "fig = plt.figure(figsize=(10, 7))\n",
    "cb = plt.contourf(a_grid, b_grid, like_grid,\n",
    "            levels=np.linspace(like_grid.min(), like_grid.max(), 100)\n",
    "            )\n",
    "plt.colorbar(cb)\n",
    "plt.xlabel('a')\n",
    "plt.ylabel('b')"
   ]
  },
  {
   "cell_type": "markdown",
   "metadata": {},
   "source": [
    "Quais valores se ajustam melhor?\n",
    "\n",
    "Qual a influência da barra de erro dos dados?\n",
    "\n",
    "E se tivessemos menos dados?"
   ]
  },
  {
   "cell_type": "code",
   "execution_count": null,
   "metadata": {},
   "outputs": [],
   "source": [
    "%matplotlib widget\n",
    "aux_funcs.plot_fit_degeneressence(x, y, err, a_vals, b_vals)"
   ]
  },
  {
   "cell_type": "markdown",
   "metadata": {},
   "source": [
    "A correlação entre os parâmetros se dá pelo envolvimento na likelihood.\n",
    "\n",
    "Ex:\n",
    "\n",
    "\\begin{equation}\n",
    "\\mathcal{L} \\propto \\exp{\\left[-(a^2+b^2+2\\theta ab)\\right]}\n",
    "\\end{equation}"
   ]
  },
  {
   "cell_type": "code",
   "execution_count": null,
   "metadata": {},
   "outputs": [],
   "source": [
    "%matplotlib widget\n",
    "aux_funcs.plot_like_deg()"
   ]
  },
  {
   "cell_type": "markdown",
   "metadata": {},
   "source": [
    "# 4. Calibrando a relação massa-riqueza <a class=\"anchor\" id=\"mr\"></a>\n",
    "\n",
    "A relação entre a massa dos halos e a riqueza dos aglomerados é approximada por uma relação de escala:\n",
    "\n",
    "\\begin{equation}\n",
    "\\left(\\frac{M}{M^0}\\right) \\approx\n",
    "\\left(\\frac{N_{gals}}{N_{gals}^0}\\right)^\\alpha \n",
    "\\end{equation}\n",
    "\n",
    "Abaixo temos um conjunto de dados com a massa, erro e riqueza de alguns aglomerados:"
   ]
  },
  {
   "cell_type": "code",
   "execution_count": null,
   "metadata": {},
   "outputs": [],
   "source": [
    "data = Table(np.genfromtxt('data/MR.dat', delimiter=',', names=True))\n",
    "data"
   ]
  },
  {
   "cell_type": "markdown",
   "metadata": {},
   "source": [
    "Visualizar os dados:"
   ]
  },
  {
   "cell_type": "code",
   "execution_count": null,
   "metadata": {},
   "outputs": [],
   "source": [
    "%matplotlib widget\n",
    "aux_funcs.plot_mr(data)"
   ]
  },
  {
   "cell_type": "markdown",
   "metadata": {},
   "source": [
    "### A relação massa-riqueza definida em escala logaritimica:\n",
    "\n",
    "\\begin{equation}\n",
    "logM=\\alpha\\,logN_{gals}+\\beta,\n",
    "\\end{equation}\n",
    "\n",
    "onde $\\beta= logM_0-\\alpha\\,logN_{gals}^0$.\n",
    "\n",
    "* Detalhe:\n",
    "\\begin{equation}\n",
    "Err_{logM}=\\frac{Err_{M}}{M ln(10)}\n",
    "\\end{equation}"
   ]
  },
  {
   "cell_type": "code",
   "execution_count": null,
   "metadata": {},
   "outputs": [],
   "source": [
    "%matplotlib widget\n",
    "aux_funcs.plot_mr(data, fit=True)"
   ]
  },
  {
   "cell_type": "markdown",
   "metadata": {},
   "source": [
    "## Determinar quem são as quantidades a serem fitadas"
   ]
  },
  {
   "cell_type": "code",
   "execution_count": null,
   "metadata": {},
   "outputs": [],
   "source": [
    "# Preencher:\n",
    "logN = # ???\n",
    "logM = # ???\n",
    "siglogM = # ???"
   ]
  },
  {
   "cell_type": "markdown",
   "metadata": {},
   "source": [
    "## E os valores dos parâmetros a serem explorados:"
   ]
  },
  {
   "cell_type": "code",
   "execution_count": null,
   "metadata": {},
   "outputs": [],
   "source": [
    "%matplotlib widget\n",
    "aux_funcs.plot_mr(data, fit=True)"
   ]
  },
  {
   "cell_type": "code",
   "execution_count": null,
   "metadata": {},
   "outputs": [],
   "source": [
    "# Preencher:\n",
    "alpha_vals = # ???\n",
    "beta_vals = # ???"
   ]
  },
  {
   "cell_type": "markdown",
   "metadata": {},
   "source": [
    "### Visualizar em 2D"
   ]
  },
  {
   "cell_type": "code",
   "execution_count": null,
   "metadata": {},
   "outputs": [],
   "source": [
    "%matplotlib inline\n",
    "aux_funcs.plot_likelihood2D(\n",
    "    alpha_vals=alpha_vals, beta_vals=beta_vals,\n",
    "    func=func, x=logN, y=logM, err=siglogM\n",
    ")"
   ]
  },
  {
   "cell_type": "markdown",
   "metadata": {},
   "source": [
    "### Ou 3D"
   ]
  },
  {
   "cell_type": "code",
   "execution_count": null,
   "metadata": {},
   "outputs": [],
   "source": [
    "%matplotlib widget\n",
    "aux_funcs.plot_likelihood3D(\n",
    "    alpha_vals=alpha_vals, beta_vals=beta_vals,\n",
    "    func=func, x=logN, y=logM, err=siglogM\n",
    ")"
   ]
  },
  {
   "cell_type": "code",
   "execution_count": null,
   "metadata": {},
   "outputs": [],
   "source": []
  }
 ],
 "metadata": {
  "kernelspec": {
   "display_name": "conda-clmmenv",
   "language": "python",
   "name": "conda-clmmenv"
  },
  "language_info": {
   "codemirror_mode": {
    "name": "ipython",
    "version": 3
   },
   "file_extension": ".py",
   "mimetype": "text/x-python",
   "name": "python",
   "nbconvert_exporter": "python",
   "pygments_lexer": "ipython3",
   "version": "3.9.0"
  }
 },
 "nbformat": 4,
 "nbformat_minor": 4
}
