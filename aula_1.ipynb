{
 "cells": [
  {
   "cell_type": "markdown",
   "metadata": {},
   "source": [
    "# Curso básico de Python aplicado à Astronomia\n",
    "### Laboratório Interinstitucional de e-Astronomia\n",
    "\n",
    " "
   ]
  },
  {
   "cell_type": "markdown",
   "metadata": {},
   "source": [
    "\n",
    "# Aula 1 - Introdução ao Jupyter\n",
    "\n",
    "\n",
    "Última atualização: 13/01/2021\n",
    "\n",
    "\n",
    "### Objetivos\n",
    "\n",
    "Ao final desta aula, os participantes saberão:\n",
    "\n",
    "- Criar e executar um notebook\n",
    "- Definir funções simples\n",
    "- Alimentar um notebook com texto formatado, equações e arquivos anexos\n",
    "- Utilizar comandos mágicos\n",
    "\n",
    "\n"
   ]
  },
  {
   "cell_type": "markdown",
   "metadata": {},
   "source": [
    "\n",
    "\n",
    "### Índice\n",
    "1. [Comandos básicos](#commands)\n",
    "2. [Tipos de células](#celltypes)\n",
    "3. [Markdown](#markdown)\n",
    "4. [Comandos do terminal](#terminal)\n",
    "5. [Comandos mágicos](#magic)\n",
    "6. [Configurações da célula](#config)\n"
   ]
  },
  {
   "cell_type": "markdown",
   "metadata": {
    "slideshow": {
     "slide_type": "slide"
    }
   },
   "source": [
    "<a class=\"anchor\" id=\"commands\"></a>\n",
    "# 1. Comandos básicos \n",
    "\n",
    "Existem dois modos no Jupyter Notebook (e no Jupyter Lab): **Edição** e **Comando**.\n",
    "\n",
    "No Jupyter Notebook (clássico), quando a célula está azul, você está no modo de comando. No modo de edição a cor é verde. No Jupyter Lab a cor é sempre azul.\n",
    "\n",
    "Para acessar os modos:\n",
    "+ Edição: **Enter**\n",
    "+ Comando: **Esc**\n",
    "\n"
   ]
  },
  {
   "cell_type": "code",
   "execution_count": null,
   "metadata": {},
   "outputs": [],
   "source": []
  },
  {
   "cell_type": "markdown",
   "metadata": {
    "slideshow": {
     "slide_type": "subslide"
    }
   },
   "source": [
    "### Executando uma célula\n",
    "Para executar uma célula você pode clicar no botão `Run` ou usar o seguintes comandos:\n",
    "+ **Ctrl+Enter**: Somente executa a célula selecionada\n",
    "+ **Shift+Enter**: Executa a célula selecionada e pula para a próxima\n",
    "+ **Alt+Enter** (ou **option+return** no Mac): Executa a célula selecionada e cria uma abaixo\n",
    "\n",
    "Agora navegue para a célula abaixo com as setas do teclado e teste os comandos."
   ]
  },
  {
   "cell_type": "code",
   "execution_count": null,
   "metadata": {
    "slideshow": {
     "slide_type": "fragment"
    }
   },
   "outputs": [],
   "source": [
    "print(\"Hello World!\")"
   ]
  },
  {
   "cell_type": "markdown",
   "metadata": {
    "slideshow": {
     "slide_type": "slide"
    }
   },
   "source": [
    "Note que ao lado da célula está escrito **In [1]:**. Isso indica a ordem de execução das células. **In [*]:** indica que a execução ainda está em andamento. Por exemplo, vamos importar a biblioteca `time` e utilizar a função `sleep`, que apenas nos faz esperar o tempo (em segundos) fornecido como argumento entre parênteses. "
   ]
  },
  {
   "cell_type": "code",
   "execution_count": null,
   "metadata": {},
   "outputs": [],
   "source": [
    "import time"
   ]
  },
  {
   "cell_type": "code",
   "execution_count": null,
   "metadata": {},
   "outputs": [],
   "source": [
    "time.sleep(5)"
   ]
  },
  {
   "cell_type": "markdown",
   "metadata": {},
   "source": [
    "Um exemplo com **Loop**:"
   ]
  },
  {
   "cell_type": "code",
   "execution_count": null,
   "metadata": {},
   "outputs": [],
   "source": [
    "print(\"Contagem regressiva\")\n",
    "for i in [5,4,3,2,1]:\n",
    "    print(i)\n",
    "    time.sleep(1)\n",
    "print(\"Pronto!\")"
   ]
  },
  {
   "cell_type": "markdown",
   "metadata": {},
   "source": [
    "### Acessando a documentação de uma classe, biblioteca ou função:"
   ]
  },
  {
   "cell_type": "code",
   "execution_count": null,
   "metadata": {},
   "outputs": [],
   "source": [
    "help(time.sleep)"
   ]
  },
  {
   "cell_type": "code",
   "execution_count": null,
   "metadata": {},
   "outputs": [],
   "source": [
    "#time?\n",
    "time.sleep?"
   ]
  },
  {
   "cell_type": "markdown",
   "metadata": {},
   "source": [
    "### Funções"
   ]
  },
  {
   "cell_type": "markdown",
   "metadata": {},
   "source": [
    "Podemos definir funções e chamá-las posteriormente. "
   ]
  },
  {
   "cell_type": "code",
   "execution_count": null,
   "metadata": {},
   "outputs": [],
   "source": [
    "def hello():\n",
    "    print(\"Hello World, again!\")"
   ]
  },
  {
   "cell_type": "markdown",
   "metadata": {},
   "source": [
    "Objetos definidos em uma célula ficam na memória e valem para todas as outras células."
   ]
  },
  {
   "cell_type": "code",
   "execution_count": null,
   "metadata": {},
   "outputs": [],
   "source": [
    "hello()"
   ]
  },
  {
   "cell_type": "markdown",
   "metadata": {},
   "source": [
    "### Atalhos úteis no modo de comando\n",
    "\n",
    "+ **a**: cria antes\n",
    "+ **b**: cria depois\n",
    "+ **x**: cortar\n",
    "+ **c**: copiar\n",
    "+ **v**: colar\n",
    "+ **d, d**: apagar (apertar duas vezes o \"d\")\n",
    "+ **z**: desfazer o último \"apagar\""
   ]
  },
  {
   "cell_type": "code",
   "execution_count": null,
   "metadata": {},
   "outputs": [],
   "source": []
  },
  {
   "cell_type": "markdown",
   "metadata": {},
   "source": [
    "<a class=\"anchor\" id=\"celltypes\"></a>\n",
    "# 2. Tipos de Células\n",
    "\n",
    "No modo de comando você pode alterar o tipo de célula com os seguintes comandos:\n",
    "+ **y** : Código\n",
    "+ **m** : Markdown\n",
    "+ **r** : Texto puro\n",
    "\n"
   ]
  },
  {
   "cell_type": "markdown",
   "metadata": {},
   "source": [
    "Por exemplo, com a nossa função hello, varie o tipo da célula e veja o resultado. "
   ]
  },
  {
   "cell_type": "code",
   "execution_count": null,
   "metadata": {},
   "outputs": [],
   "source": [
    "hello()"
   ]
  },
  {
   "cell_type": "markdown",
   "metadata": {},
   "source": [
    "<a class=\"anchor\" id=\"markdown\"></a>\n",
    "# 3. Markdown"
   ]
  },
  {
   "cell_type": "markdown",
   "metadata": {},
   "source": [
    "Entre no modo de edição dessa célula para ver como cada item foi feito.\n",
    "\n",
    "# Título 1\n",
    "## Título 2\n",
    "### Título 3\n",
    "#### Título 4\n",
    "##### Título 5\n",
    "###### Título 6"
   ]
  },
  {
   "cell_type": "markdown",
   "metadata": {},
   "source": [
    "### Links\n",
    "\n",
    "[Site do LIneA](https://www.linea.gov.br)\n",
    "\n",
    "[Contato](mailto:julia@linea.gov.br) "
   ]
  },
  {
   "cell_type": "markdown",
   "metadata": {},
   "source": [
    "### Font style\n",
    "\n",
    "\n",
    "**bold**, __bold__\n",
    "\n",
    "_italic_, *italic*\n",
    "\n",
    "~~Strikethrough~~\n",
    "\n",
    "***Bold and italic***\n",
    "\n",
    "> blockquote\n",
    "\n",
    "Inline `print(\"Hello World\")`\n",
    "\n",
    "```\n",
    "def quote_code_markdown()\n",
    "    return\n",
    "```\n",
    "\n",
    "Código em uma linguagem\n",
    "```python\n",
    "def python_func()\n",
    "    return\n",
    "```\n",
    "\n",
    "Mais detalhes sobre codigo no [link](https://help.github.com/en/articles/creating-and-highlighting-code-blocks)"
   ]
  },
  {
   "cell_type": "markdown",
   "metadata": {},
   "source": [
    "### Exemplos de listas\n",
    "\n",
    "- item 1\n",
    "- item 2\n",
    "- item 3\n",
    "\n",
    "\n",
    "1. item 1\n",
    "2. item 2\n",
    "3. item 3\n",
    "\n",
    "\n",
    "- item 1\n",
    "  - item 2\n",
    "    - item 3\n",
    "\n",
    "\n",
    "1. item 1\n",
    "   1. item 2\n",
    "      1. item 3\n",
    "\n",
    "Mais informações sobre markdown no [link](https://help.github.com/en/articles/basic-writing-and-formatting-syntax)"
   ]
  },
  {
   "cell_type": "markdown",
   "metadata": {},
   "source": [
    "### Exemplo de tabela\n",
    "\n",
    "|  x  |  y  |  z  |\n",
    "|-----|-----|-----|\n",
    "| x1  | y1  | z1  |\n",
    "| x2  | y2  | z2  |\n",
    "| x3  | y3  | z3  |\n",
    "| x4  | y4  | z4  |\n",
    "| x5  | y5  | z5  |\n"
   ]
  },
  {
   "cell_type": "markdown",
   "metadata": {},
   "source": [
    "### HTML\n",
    "\n",
    "Tags HTML também funcionam nas células do tipo Markdown\n",
    "\n",
    "<h1>Heading 1</h1>\n",
    "<h2>Heading 2</h2>\n",
    "<h3>Heading 2</h3>\n",
    "\n",
    "\n",
    "<font color='red'>Change font color</font>\n",
    "\n",
    "<p style=\"background-color:green; color:white\">Lorem ipsum dolor sit amet, consectetur adipiscing elit. Etiam eget ligula eu lectus lobortis condimentum. Aliquam nonummy auctor massa. Pellentesque habitant morbi tristique senectus et netus et malesuada fames ac turpis egestas. Nulla at risus. Quisque purus magna, auctor et, sagittis ac, posuere eu, lectus. Nam mattis, felis ut adipiscing.</p>"
   ]
  },
  {
   "cell_type": "markdown",
   "metadata": {},
   "source": [
    "### $\\LaTeX\\$\n",
    "\n",
    "É possível adicionar equações e expressões matemáticas em geral diretamente na célula do tipo **Markdown**, na mesma linha: $e^{i\\pi} + 1 = 0$\n",
    "\n",
    "Ou em uma linha separada, centralizado:\n",
    "$$e^x=\\sum_{i=0}^\\infty \\frac{1}{i!}x^i$$"
   ]
  },
  {
   "cell_type": "markdown",
   "metadata": {},
   "source": [
    "É possível anexar imagens usando as funcionalidades do IPython"
   ]
  },
  {
   "cell_type": "code",
   "execution_count": null,
   "metadata": {
    "scrolled": true
   },
   "outputs": [],
   "source": [
    "from IPython.display import Image\n",
    "Image(\"anexos/python-logo.png\")"
   ]
  },
  {
   "cell_type": "markdown",
   "metadata": {},
   "source": [
    "Também é possível anexar imagens e vídeos usando HTML"
   ]
  },
  {
   "cell_type": "raw",
   "metadata": {},
   "source": [
    "<img src=\"anexos/minions.gif\"/>"
   ]
  },
  {
   "cell_type": "raw",
   "metadata": {},
   "source": [
    "<center><video controls src=\"anexos/baby.mp4\" width=\"500\"/></center>"
   ]
  },
  {
   "cell_type": "markdown",
   "metadata": {},
   "source": [
    "<a class=\"anchor\" id=\"terminal\"></a>\n",
    "# 4. Comandos do terminal \n",
    "\n",
    "Para executar comandos do terminal diretamente nsa célula, basta iniciar a linha com o **`!`** "
   ]
  },
  {
   "cell_type": "code",
   "execution_count": null,
   "metadata": {},
   "outputs": [],
   "source": [
    "! ls -l"
   ]
  },
  {
   "cell_type": "code",
   "execution_count": null,
   "metadata": {},
   "outputs": [],
   "source": [
    "! cp README.md copy_README.md"
   ]
  },
  {
   "cell_type": "markdown",
   "metadata": {},
   "source": [
    "<a class=\"anchor\" id=\"magic\"></a>\n",
    "# 5. Comandos mágicos\n",
    "\n",
    "São executados com \"%\" (válido para a linha) ou \"%%\" (válido para a célula). \n",
    "\n"
   ]
  },
  {
   "cell_type": "markdown",
   "metadata": {},
   "source": [
    "Por exemplo:"
   ]
  },
  {
   "cell_type": "code",
   "execution_count": null,
   "metadata": {},
   "outputs": [],
   "source": [
    "%ls"
   ]
  },
  {
   "cell_type": "markdown",
   "metadata": {},
   "source": [
    "O comando `%lsmagic` lista todos os comandos mágicos que vem \"de fábrica\" na instalação do Jupyter."
   ]
  },
  {
   "cell_type": "code",
   "execution_count": null,
   "metadata": {},
   "outputs": [],
   "source": [
    "%lsmagic"
   ]
  },
  {
   "cell_type": "markdown",
   "metadata": {},
   "source": [
    " Note que alguns comandos mágicos são nomes de outras linguagens (ex.: `%%javascript`, `%%pearl`, `%%ruby`), o que possibilita trocar de kernel ou ambiente em uma célula em particular.  Também é possível adicionar outras linguagens através da instalação de extensões. "
   ]
  },
  {
   "cell_type": "code",
   "execution_count": null,
   "metadata": {},
   "outputs": [],
   "source": [
    "%%python2\n",
    "\n",
    "print \"Hello World!\""
   ]
  },
  {
   "cell_type": "markdown",
   "metadata": {},
   "source": [
    "Dois exemplos bastante úteis são os comandos `%time` e `%%timeit`"
   ]
  },
  {
   "cell_type": "code",
   "execution_count": null,
   "metadata": {},
   "outputs": [],
   "source": [
    "%time print(\"Quanto tempo leva para imprimir esta frase?\")"
   ]
  },
  {
   "cell_type": "code",
   "execution_count": null,
   "metadata": {},
   "outputs": [],
   "source": [
    "%%timeit\n",
    "x = 0\n",
    "for i in range(10): x += i"
   ]
  },
  {
   "cell_type": "markdown",
   "metadata": {},
   "source": [
    "<a class=\"anchor\" id=\"config\"></a>\n",
    "# 6. Configurações da célula\n",
    "\n",
    "\n",
    "### Toggle scrolling \n",
    "\n",
    "Útil para outputs longos inconvenientes\n",
    "\n",
    "`Cell -> Current Outputs -> Toggle Scrolling`"
   ]
  },
  {
   "cell_type": "code",
   "execution_count": null,
   "metadata": {
    "scrolled": true
   },
   "outputs": [],
   "source": [
    "for i in range(50):\n",
    "    print(i)"
   ]
  },
  {
   "cell_type": "markdown",
   "metadata": {},
   "source": [
    "O Toggle Scrolling é setado automaticamente para outputs muito longos."
   ]
  },
  {
   "cell_type": "code",
   "execution_count": null,
   "metadata": {},
   "outputs": [],
   "source": [
    "for i in range(500):\n",
    "    print(2**i - 1)"
   ]
  },
  {
   "cell_type": "markdown",
   "metadata": {},
   "source": [
    "### Numeração de linhas\n",
    "\n",
    "`View -> Toggle Line Numbers`\n"
   ]
  },
  {
   "cell_type": "code",
   "execution_count": null,
   "metadata": {},
   "outputs": [],
   "source": [
    "print()\n",
    "print(\"Por hoje é só pessoal!\")\n",
    "print()\n",
    "print()"
   ]
  }
 ],
 "metadata": {
  "kernelspec": {
   "display_name": "Python 3",
   "language": "python",
   "name": "python3"
  },
  "language_info": {
   "codemirror_mode": {
    "name": "ipython",
    "version": 3
   },
   "file_extension": ".py",
   "mimetype": "text/x-python",
   "name": "python",
   "nbconvert_exporter": "python",
   "pygments_lexer": "ipython3",
   "version": "3.7.9"
  }
 },
 "nbformat": 4,
 "nbformat_minor": 4
}
