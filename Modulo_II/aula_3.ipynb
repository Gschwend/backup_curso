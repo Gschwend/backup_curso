{
 "cells": [
  {
   "cell_type": "markdown",
   "metadata": {
    "slideshow": {
     "slide_type": "slide"
    }
   },
   "source": [
    "# Curso básico de Python aplicado à Astronomia\n",
    "### Laboratório Interinstitucional de e-Astronomia\n",
    "\n",
    "\n",
    "# Aula 3 - Acesso a dados pelo LIneA Science Server, Pandas, Astropy\n",
    "\n",
    "\n",
    "\n",
    "\n",
    "Última atualização: 04/02/2021\n",
    "\n",
    "### Objetivos\n",
    "\n",
    "Ao final desta aula, os participantes saberão:\n",
    "\n",
    "- Acessar o LIneA Science Server\n",
    "- Fazer queries no banco de dados\n",
    "- Fazer download dos dados \n",
    "- Ler arquivos a partir de um notebook (usando a instalação local)\n",
    "- Criar um Dataframe e imprimir estatísticas básicas com a biblioteca Pandas \n",
    "- Converter unidades usando a biblioteca Astropy\n",
    "\n",
    "\n",
    "\n",
    "\n"
   ]
  },
  {
   "cell_type": "markdown",
   "metadata": {
    "slideshow": {
     "slide_type": "slide"
    }
   },
   "source": [
    "\n",
    "### Índice\n",
    "1. SQL básico ([slides aula 3](https://docs.google.com/presentation/d/1jo1YSXiC-lUm14zUaI-BMPXr9qfpoqKCnHQGO0i-OQI/edit?usp=sharing))\n",
    "2. Queries e download dos dados no [LIneA Science Server](https://desportal2.cosmology.illinois.edu )\n",
    "3. [Pandas DataFrame](#pandas)\n",
    "4. [Astropy](#astropy)"
   ]
  },
  {
   "cell_type": "markdown",
   "metadata": {},
   "source": [
    "# Dados\n"
   ]
  },
  {
   "cell_type": "markdown",
   "metadata": {},
   "source": [
    "```sql\n",
    "\n",
    "SELECT COUNT(*)\n",
    "FROM DES_ADMIN.DR1_MAIN\n",
    "WHERE ra > 35 and ra < 36\n",
    "AND dec > -10 and dec < -9\n",
    "AND mag_auto_g between 15 and 23\n",
    "AND CLASS_STAR_G < 0.95\n",
    "```\n"
   ]
  },
  {
   "cell_type": "markdown",
   "metadata": {},
   "source": [
    "```sql\n",
    "\n",
    "SELECT coadd_object_id, ra ,dec, mag_auto_g, mag_auto_r, mag_auto_i\n",
    "FROM DES_ADMIN.DR1_MAIN\n",
    "WHERE ra > 35 and ra < 36\n",
    "AND dec > -10 and dec < -9\n",
    "AND mag_auto_g between 15 and 23\n",
    "AND CLASS_STAR_G < 0.95\n",
    "```\n"
   ]
  },
  {
   "cell_type": "code",
   "execution_count": null,
   "metadata": {},
   "outputs": [],
   "source": []
  },
  {
   "cell_type": "code",
   "execution_count": null,
   "metadata": {},
   "outputs": [],
   "source": []
  },
  {
   "cell_type": "code",
   "execution_count": null,
   "metadata": {},
   "outputs": [],
   "source": []
  },
  {
   "cell_type": "markdown",
   "metadata": {
    "slideshow": {
     "slide_type": "slide"
    }
   },
   "source": [
    "<a class=\"anchor\" id=\"imports\"></a>\n",
    "# 1. Importando bibliotecas"
   ]
  },
  {
   "cell_type": "code",
   "execution_count": null,
   "metadata": {
    "slideshow": {
     "slide_type": "fragment"
    }
   },
   "outputs": [],
   "source": [
    "import numpy as np\n",
    "import pandas as pd\n",
    "import seaborn as sns\n",
    "from astropy.io import fits\n",
    "from astropy.table import Table\n",
    "import matplotlib.pyplot as plt"
   ]
  },
  {
   "cell_type": "code",
   "execution_count": null,
   "metadata": {
    "slideshow": {
     "slide_type": "subslide"
    }
   },
   "outputs": [],
   "source": [
    "print('Numpy version: ', np.__version__)\n",
    "print('Pandas version: ', pd.__version__)\n",
    "print('Seaborn version: ', sns.__version__)"
   ]
  },
  {
   "cell_type": "markdown",
   "metadata": {
    "slideshow": {
     "slide_type": "slide"
    }
   },
   "source": [
    "<a class=\"anchor\" id=\"read\"></a>\n",
    "# 2. Leitura e escrita de arquivos\n",
    "\n",
    "\n",
    "Nos exemplos a seguir vamos explorar os dados de uma amostra pública de galáxias do levantamento \n",
    "[Canada-France-Hawaii Telescope Legacy Survey (CFHTLS)](https://www.cfht.hawaii.edu/Science/CFHLS/). Esta amostra é um catálogo fotométrico, ou seja, uma tabela com medidas feitas a partir de fotografias do céu. Cada linha da tabela representa uma galáxia detectada nas imagens e cada coluna um atributo.   \n",
    "\n"
   ]
  },
  {
   "cell_type": "markdown",
   "metadata": {
    "slideshow": {
     "slide_type": "slide"
    }
   },
   "source": [
    "\n",
    "Os dados estão armazenados em um arquivo no formato FITS, comum na astronomia. Para para ler o arquivo e extrair os dados, vamos precisar importar a biblioteca `astropy`. "
   ]
  },
  {
   "cell_type": "code",
   "execution_count": null,
   "metadata": {
    "slideshow": {
     "slide_type": "fragment"
    }
   },
   "outputs": [],
   "source": [
    "hdulist = fits.open('/archive/user/julia/jupyter/data/cfhtls/cfhtw.fits')\n",
    "catalog = hdulist[1].data "
   ]
  },
  {
   "cell_type": "code",
   "execution_count": null,
   "metadata": {
    "slideshow": {
     "slide_type": "fragment"
    }
   },
   "outputs": [],
   "source": [
    "print('A amostra contém %d galáxias e %d atributos' %(len(catalog),  len(catalog.columns)))"
   ]
  },
  {
   "cell_type": "code",
   "execution_count": null,
   "metadata": {
    "slideshow": {
     "slide_type": "slide"
    }
   },
   "outputs": [],
   "source": [
    "catalog.columns"
   ]
  },
  {
   "cell_type": "markdown",
   "metadata": {
    "slideshow": {
     "slide_type": "slide"
    }
   },
   "source": [
    "Atribuindo as colunas de interesse a variáveis e selecionando os mil primeiros objetos"
   ]
  },
  {
   "cell_type": "code",
   "execution_count": null,
   "metadata": {
    "slideshow": {
     "slide_type": "fragment"
    }
   },
   "outputs": [],
   "source": [
    "ra = catalog['RA'][0:1000]\n",
    "dec = catalog['DEC'][0:1000]\n",
    "zphot = catalog['ZPHOT'][0:1000]\n",
    "mag_abs_u = catalog['MAG_ABS_U'][0:1000]\n",
    "mag_abs_r = catalog['MAG_ABS_R'][0:1000]"
   ]
  },
  {
   "cell_type": "code",
   "execution_count": null,
   "metadata": {
    "slideshow": {
     "slide_type": "slide"
    }
   },
   "outputs": [],
   "source": [
    "type(ra)"
   ]
  },
  {
   "cell_type": "code",
   "execution_count": null,
   "metadata": {
    "slideshow": {
     "slide_type": "fragment"
    }
   },
   "outputs": [],
   "source": [
    "len(ra)"
   ]
  },
  {
   "cell_type": "code",
   "execution_count": null,
   "metadata": {
    "slideshow": {
     "slide_type": "slide"
    }
   },
   "outputs": [],
   "source": [
    "ra[0:10]"
   ]
  },
  {
   "cell_type": "code",
   "execution_count": null,
   "metadata": {
    "slideshow": {
     "slide_type": "fragment"
    }
   },
   "outputs": [],
   "source": [
    "zphot[0:10]"
   ]
  },
  {
   "cell_type": "code",
   "execution_count": null,
   "metadata": {
    "slideshow": {
     "slide_type": "fragment"
    }
   },
   "outputs": [],
   "source": [
    "mag_abs_u[0:10]"
   ]
  },
  {
   "cell_type": "markdown",
   "metadata": {
    "slideshow": {
     "slide_type": "slide"
    }
   },
   "source": [
    "Salvando a seleção em um arquivo de texto formato CSV"
   ]
  },
  {
   "cell_type": "code",
   "execution_count": null,
   "metadata": {
    "slideshow": {
     "slide_type": "fragment"
    }
   },
   "outputs": [],
   "source": [
    "cols_to_save = np.c_[ra, dec, zphot, mag_abs_u, mag_abs_r]\n",
    "cols_format = ['%.4f', '%.4f', '%.4f', '%.3f', '%.3f']\n",
    "text_header = 'ra,dec,zphot,mag_u,mag_r' # sem espaços\n",
    "\n",
    "np.savetxt('dados/galaxias.csv', cols_to_save, fmt=cols_format, delimiter=',', header=text_header, comments='')"
   ]
  },
  {
   "cell_type": "code",
   "execution_count": null,
   "metadata": {
    "slideshow": {
     "slide_type": "slide"
    }
   },
   "outputs": [],
   "source": [
    "# limpando a memória\n",
    "del ra, dec, zphot, mag_abs_u, mag_abs_r, catalog"
   ]
  },
  {
   "cell_type": "markdown",
   "metadata": {
    "slideshow": {
     "slide_type": "slide"
    }
   },
   "source": [
    "<a class=\"anchor\" id=\"stats\"></a>\n",
    "# 3. Visualização de tabelas e estatísticas básicas\n",
    "\n",
    "Criando um Pandas DataFrame a partir do arquivo no formato CSV."
   ]
  },
  {
   "cell_type": "code",
   "execution_count": null,
   "metadata": {
    "slideshow": {
     "slide_type": "fragment"
    }
   },
   "outputs": [],
   "source": [
    "df = pd.read_csv('dados/galaxias.csv')"
   ]
  },
  {
   "cell_type": "code",
   "execution_count": null,
   "metadata": {
    "slideshow": {
     "slide_type": "slide"
    }
   },
   "outputs": [],
   "source": [
    "df"
   ]
  },
  {
   "cell_type": "code",
   "execution_count": null,
   "metadata": {
    "slideshow": {
     "slide_type": "slide"
    }
   },
   "outputs": [],
   "source": [
    "df.head() "
   ]
  },
  {
   "cell_type": "code",
   "execution_count": null,
   "metadata": {
    "slideshow": {
     "slide_type": "slide"
    }
   },
   "outputs": [],
   "source": [
    "df.head(2) "
   ]
  },
  {
   "cell_type": "code",
   "execution_count": null,
   "metadata": {
    "slideshow": {
     "slide_type": "slide"
    }
   },
   "outputs": [],
   "source": [
    "df.tail()"
   ]
  },
  {
   "cell_type": "markdown",
   "metadata": {
    "slideshow": {
     "slide_type": "slide"
    }
   },
   "source": [
    "Estatísticas básicas"
   ]
  },
  {
   "cell_type": "code",
   "execution_count": null,
   "metadata": {
    "slideshow": {
     "slide_type": "fragment"
    }
   },
   "outputs": [],
   "source": [
    "df.describe()"
   ]
  },
  {
   "cell_type": "markdown",
   "metadata": {
    "slideshow": {
     "slide_type": "slide"
    }
   },
   "source": [
    "<a class=\"anchor\" id=\"plots\"></a>\n",
    "# 4. Exemplos de gráficos estáticos e interativos\n",
    "\n",
    "### 4.1 Utilizando a biblioteca Matplotlib"
   ]
  },
  {
   "cell_type": "code",
   "execution_count": null,
   "metadata": {
    "slideshow": {
     "slide_type": "fragment"
    }
   },
   "outputs": [],
   "source": [
    "%matplotlib inline"
   ]
  },
  {
   "cell_type": "code",
   "execution_count": null,
   "metadata": {
    "slideshow": {
     "slide_type": "slide"
    }
   },
   "outputs": [],
   "source": [
    "plt.scatter(df['ra'], df['dec'])"
   ]
  },
  {
   "cell_type": "code",
   "execution_count": null,
   "metadata": {
    "slideshow": {
     "slide_type": "slide"
    }
   },
   "outputs": [],
   "source": [
    "def dist_esp():\n",
    "    plt.figure(dpi=100)\n",
    "    plt.scatter(df['ra'], df['dec'], c=df['zphot'], cmap='rainbow')\n",
    "    plt.xlim(df['ra'].min()-0.02, df['ra'].max()+0.02)\n",
    "    plt.ylim(df['dec'].min()-0.001, df['dec'].max()+0.001)\n",
    "    cbar = plt.colorbar()\n",
    "    cbar.set_label('redshift', size=10)\n",
    "    plt.title('Distribuição Espacial')\n",
    "    plt.xlabel('Ascensão Reta')\n",
    "    plt.ylabel('Declinação')\n",
    "    plt.xticks(size=8)\n",
    "    plt.yticks(size=8)\n",
    "    plt.tight_layout()"
   ]
  },
  {
   "cell_type": "code",
   "execution_count": null,
   "metadata": {
    "slideshow": {
     "slide_type": "slide"
    }
   },
   "outputs": [],
   "source": [
    "dist_esp()"
   ]
  },
  {
   "cell_type": "markdown",
   "metadata": {
    "slideshow": {
     "slide_type": "slide"
    }
   },
   "source": [
    "### 4.2 Utilizando a biblioteca Seaborn"
   ]
  },
  {
   "cell_type": "code",
   "execution_count": null,
   "metadata": {
    "slideshow": {
     "slide_type": "fragment"
    }
   },
   "outputs": [],
   "source": [
    "# Histograma simples não normalizado dos redshifts (coluna 'zphot')\n",
    "sns.distplot(df['zphot'], kde=False)\n",
    "plt.show()"
   ]
  },
  {
   "cell_type": "code",
   "execution_count": null,
   "metadata": {
    "slideshow": {
     "slide_type": "slide"
    }
   },
   "outputs": [],
   "source": [
    "# Histograma normalizado com suavização (KDE) dos redshifts (coluna 'zphot')\n",
    "sns.distplot(df['zphot'], kde=True)\n",
    "plt.show()"
   ]
  },
  {
   "cell_type": "code",
   "execution_count": null,
   "metadata": {
    "slideshow": {
     "slide_type": "slide"
    }
   },
   "outputs": [],
   "source": [
    "# Diagrama _box-and-whisker_ \n",
    "sns.boxplot(data=df['zphot'], orient='h')\n",
    "plt.show()"
   ]
  },
  {
   "cell_type": "markdown",
   "metadata": {
    "slideshow": {
     "slide_type": "slide"
    }
   },
   "source": [
    "Vamos definir um novo dataframe apenas com as magnitudes absolutas"
   ]
  },
  {
   "cell_type": "code",
   "execution_count": null,
   "metadata": {
    "slideshow": {
     "slide_type": "fragment"
    }
   },
   "outputs": [],
   "source": [
    "mag_df = pd.DataFrame({'u' : df['mag_u'],\n",
    "                       'r' : df['mag_r']})"
   ]
  },
  {
   "cell_type": "code",
   "execution_count": null,
   "metadata": {
    "slideshow": {
     "slide_type": "slide"
    }
   },
   "outputs": [],
   "source": [
    "#plt.figure(dpi=150)\n",
    "sns.kdeplot(mag_df['u'], shade=True)\n",
    "sns.kdeplot(mag_df['r'], shade=True)\n",
    "plt.legend(fontsize=12, loc='upper left')\n",
    "plt.xlabel('magnitude absoluta')\n",
    "plt.ylabel('KDE plot')\n",
    "plt.yticks([])\n",
    "plt.tight_layout()"
   ]
  },
  {
   "cell_type": "code",
   "execution_count": null,
   "metadata": {
    "slideshow": {
     "slide_type": "slide"
    }
   },
   "outputs": [],
   "source": [
    "sns.boxplot(data=mag_df, orient='h')\n",
    "plt.xlabel('magnitude absoluta')\n",
    "plt.tight_layout()"
   ]
  },
  {
   "cell_type": "markdown",
   "metadata": {
    "slideshow": {
     "slide_type": "slide"
    }
   },
   "source": [
    "Calculando a cor u-r"
   ]
  },
  {
   "cell_type": "code",
   "execution_count": null,
   "metadata": {
    "slideshow": {
     "slide_type": "fragment"
    }
   },
   "outputs": [],
   "source": [
    "ur = mag_df['u'] - mag_df['r']\n",
    "color_df = pd.DataFrame({'u-r':ur})"
   ]
  },
  {
   "cell_type": "code",
   "execution_count": null,
   "metadata": {
    "slideshow": {
     "slide_type": "slide"
    }
   },
   "outputs": [],
   "source": [
    "color_df.head()"
   ]
  },
  {
   "cell_type": "code",
   "execution_count": null,
   "metadata": {
    "slideshow": {
     "slide_type": "slide"
    }
   },
   "outputs": [],
   "source": [
    "color_df.describe()"
   ]
  },
  {
   "cell_type": "code",
   "execution_count": null,
   "metadata": {
    "slideshow": {
     "slide_type": "slide"
    }
   },
   "outputs": [],
   "source": [
    "sns.kdeplot(color_df['u-r'], shade=True, legend='u=r')\n",
    "plt.legend()#fontsize=12, loc='upper left')\n",
    "plt.xlabel('color')\n",
    "plt.ylabel('KDE plot')\n",
    "plt.yticks([])\n",
    "plt.tight_layout()"
   ]
  },
  {
   "cell_type": "code",
   "execution_count": null,
   "metadata": {
    "slideshow": {
     "slide_type": "slide"
    }
   },
   "outputs": [],
   "source": [
    "sns.boxplot(data=color_df, orient='h')\n",
    "plt.xlabel('color')\n",
    "plt.tight_layout()"
   ]
  },
  {
   "cell_type": "markdown",
   "metadata": {
    "slideshow": {
     "slide_type": "slide"
    }
   },
   "source": [
    "### Diagrama cor-magnitude\n",
    "\n",
    "<img src=\"anexos/cmd_theory.jpg\" width=\"500\"/>  "
   ]
  },
  {
   "cell_type": "code",
   "execution_count": null,
   "metadata": {
    "slideshow": {
     "slide_type": "slide"
    }
   },
   "outputs": [],
   "source": [
    "sns.set(style=\"white\", color_codes=True)\n",
    "sns.jointplot(x=mag_df['r'], y=color_df['u-r'], kind='kde')"
   ]
  },
  {
   "cell_type": "code",
   "execution_count": null,
   "metadata": {
    "slideshow": {
     "slide_type": "slide"
    }
   },
   "outputs": [],
   "source": [
    "ax = sns.kdeplot(mag_df['r'], color_df['u-r'],\n",
    "                  shade=True, shade_lowest=False)\n",
    "plt.plot([-17,-24],[1.25,1.75], '-g')\n",
    "plt.xlim(-17,-24)\n",
    "plt.ylim(0,2.5)\n",
    " "
   ]
  },
  {
   "cell_type": "code",
   "execution_count": null,
   "metadata": {
    "slideshow": {
     "slide_type": "slide"
    }
   },
   "outputs": [],
   "source": [
    "mask_red = (color_df['u-r'] >= ((-0.07143 * mag_df['r']) + 0.03571) )\n",
    "mask_blue = (color_df['u-r'] <= ((-0.07143 * mag_df['r']) + 0.03571) )"
   ]
  },
  {
   "cell_type": "code",
   "execution_count": null,
   "metadata": {
    "slideshow": {
     "slide_type": "slide"
    }
   },
   "outputs": [],
   "source": [
    "\n",
    "ax = sns.kdeplot(mag_df['r'][mask_blue], color_df['u-r'][mask_blue],\n",
    "                 cmap=\"Blues\", shade=True, shade_lowest=False)\n",
    "ax = sns.kdeplot(mag_df['r'][mask_red], color_df['u-r'][mask_red],\n",
    "                 cmap=\"Reds\", shade=True, shade_lowest=False)\n",
    "plt.xlim(-17,-24)\n",
    "plt.ylim(0,2.5)"
   ]
  },
  {
   "cell_type": "markdown",
   "metadata": {
    "slideshow": {
     "slide_type": "slide"
    }
   },
   "source": [
    "### 4.3 Utilizando a biblioteca Bokeh\n"
   ]
  },
  {
   "cell_type": "code",
   "execution_count": null,
   "metadata": {
    "slideshow": {
     "slide_type": "fragment"
    }
   },
   "outputs": [],
   "source": [
    "from bokeh.plotting import figure, show, output_notebook\n",
    "output_notebook()\n",
    "\n",
    "def red_gals():\n",
    "\n",
    "    p1 = figure(title='Red galaxies',plot_width=500, plot_height=500)#, x_range=(-17,-24), y_range=(0,2.5))  \n",
    "\n",
    "    p1.scatter(df['ra'][mask_red], df['dec'][mask_red], marker='circle', size=15, fill_color='red')\n",
    "\n",
    "    p1.grid.visible = False\n",
    "    p1.xaxis.axis_label = 'R.A.'\n",
    "    p1.yaxis.axis_label = 'Dec.'\n",
    "    show(p1)"
   ]
  },
  {
   "cell_type": "code",
   "execution_count": null,
   "metadata": {
    "slideshow": {
     "slide_type": "slide"
    }
   },
   "outputs": [],
   "source": [
    "red_gals()"
   ]
  },
  {
   "cell_type": "markdown",
   "metadata": {
    "slideshow": {
     "slide_type": "slide"
    }
   },
   "source": [
    "<a class=\"anchor\" id=\"export\"></a>\n",
    "# 5. Exportando o notebook para HTML\n",
    "\n",
    "Para finalizar o tutorial, vamos exportar esses resultados para um arquivo HTML\n",
    "\n",
    "`File -> Download as -> HTML(.html) `"
   ]
  },
  {
   "cell_type": "code",
   "execution_count": null,
   "metadata": {},
   "outputs": [],
   "source": []
  }
 ],
 "metadata": {
  "kernelspec": {
   "display_name": "Python 3",
   "language": "python",
   "name": "python3"
  },
  "language_info": {
   "codemirror_mode": {
    "name": "ipython",
    "version": 3
   },
   "file_extension": ".py",
   "mimetype": "text/x-python",
   "name": "python",
   "nbconvert_exporter": "python",
   "pygments_lexer": "ipython3",
   "version": "3.7.9"
  }
 },
 "nbformat": 4,
 "nbformat_minor": 4
}
